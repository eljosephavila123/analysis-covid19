{
 "cells": [
  {
   "cell_type": "code",
   "execution_count": 72,
   "metadata": {},
   "outputs": [],
   "source": [
    "import pandas as pd\n",
    "import numpy as np\n",
    "import re\n",
    "import string\n",
    "import math\n",
    "from unicodedata import normalize"
   ]
  },
  {
   "cell_type": "code",
   "execution_count": 35,
   "metadata": {},
   "outputs": [],
   "source": [
    "df = pd.read_csv('Honduras_coronavirus.csv')"
   ]
  },
  {
   "cell_type": "code",
   "execution_count": 36,
   "metadata": {},
   "outputs": [],
   "source": [
    "df.drop(['urls__001','hashtags__012', 'hashtags__013', 'urls__002' ,'retweet_id',\n",
    "       'retweet_date', 'translate', 'trans_src', 'trans_dest', 'hashtags__006',\n",
    "       'hashtags__007', 'hashtags__008', 'photos__001', 'photos__002',\n",
    "       'photos__003', 'photos__004', 'reply_to__screen_name', 'reply_to__name',\n",
    "       'reply_to__id', 'hashtags__009', 'hashtags__010',\n",
    "       'mentions__screen_name', 'mentions__name', 'mentions__id',\n",
    "       'place__type', 'place__coordinates__001', 'place__coordinates__002',\n",
    "       'hashtags__011','quote_url', 'video', 'thumbnail', 'near', 'geo',\n",
    "       'source', 'user_rt_id', 'user_rt','hashtags__001',\n",
    "       'hashtags__002', 'hashtags__003', 'hashtags__004', 'hashtags__005','id', 'conversation_id','place'], axis='columns', inplace=True)"
   ]
  },
  {
   "cell_type": "code",
   "execution_count": 37,
   "metadata": {},
   "outputs": [
    {
     "data": {
      "text/html": [
       "<div>\n",
       "<style scoped>\n",
       "    .dataframe tbody tr th:only-of-type {\n",
       "        vertical-align: middle;\n",
       "    }\n",
       "\n",
       "    .dataframe tbody tr th {\n",
       "        vertical-align: top;\n",
       "    }\n",
       "\n",
       "    .dataframe thead th {\n",
       "        text-align: right;\n",
       "    }\n",
       "</style>\n",
       "<table border=\"1\" class=\"dataframe\">\n",
       "  <thead>\n",
       "    <tr style=\"text-align: right;\">\n",
       "      <th></th>\n",
       "      <th>created_at</th>\n",
       "      <th>date</th>\n",
       "      <th>time</th>\n",
       "      <th>timezone</th>\n",
       "      <th>user_id</th>\n",
       "      <th>username</th>\n",
       "      <th>name</th>\n",
       "      <th>tweet</th>\n",
       "      <th>language</th>\n",
       "      <th>replies_count</th>\n",
       "      <th>retweets_count</th>\n",
       "      <th>likes_count</th>\n",
       "      <th>link</th>\n",
       "      <th>retweet</th>\n",
       "    </tr>\n",
       "  </thead>\n",
       "  <tbody>\n",
       "    <tr>\n",
       "      <th>0</th>\n",
       "      <td>2020-12-07 18:50:13 -05</td>\n",
       "      <td>2020-12-07</td>\n",
       "      <td>18:50:13</td>\n",
       "      <td>-500.0</td>\n",
       "      <td>1.754808e+07</td>\n",
       "      <td>diarioelheraldo</td>\n",
       "      <td>Diario El Heraldo</td>\n",
       "      <td>Alejandro Pozuelo firmó nueve goles y aportó 1...</td>\n",
       "      <td>es</td>\n",
       "      <td>0.0</td>\n",
       "      <td>0.0</td>\n",
       "      <td>0.0</td>\n",
       "      <td>https://twitter.com/diarioelheraldo/status/133...</td>\n",
       "      <td>False</td>\n",
       "    </tr>\n",
       "    <tr>\n",
       "      <th>1</th>\n",
       "      <td>2020-12-07 18:35:02 -05</td>\n",
       "      <td>2020-12-07</td>\n",
       "      <td>18:35:02</td>\n",
       "      <td>-500.0</td>\n",
       "      <td>1.289659e+18</td>\n",
       "      <td>girasol_tv</td>\n",
       "      <td>Girasol TV</td>\n",
       "      <td>#Internacional | Ahora China quiere imponer un...</td>\n",
       "      <td>es</td>\n",
       "      <td>0.0</td>\n",
       "      <td>0.0</td>\n",
       "      <td>0.0</td>\n",
       "      <td>https://twitter.com/girasol_tv/status/13360918...</td>\n",
       "      <td>False</td>\n",
       "    </tr>\n",
       "    <tr>\n",
       "      <th>2</th>\n",
       "      <td>2020-12-07 18:27:19 -05</td>\n",
       "      <td>2020-12-07</td>\n",
       "      <td>18:27:19</td>\n",
       "      <td>-500.0</td>\n",
       "      <td>1.754808e+07</td>\n",
       "      <td>diarioelheraldo</td>\n",
       "      <td>Diario El Heraldo</td>\n",
       "      <td>#fotos EL HERALDO dio a conocer este lunes que...</td>\n",
       "      <td>es</td>\n",
       "      <td>1.0</td>\n",
       "      <td>0.0</td>\n",
       "      <td>2.0</td>\n",
       "      <td>https://twitter.com/diarioelheraldo/status/133...</td>\n",
       "      <td>False</td>\n",
       "    </tr>\n",
       "    <tr>\n",
       "      <th>3</th>\n",
       "      <td>2020-12-07 18:05:48 -05</td>\n",
       "      <td>2020-12-07</td>\n",
       "      <td>18:05:48</td>\n",
       "      <td>-500.0</td>\n",
       "      <td>1.754808e+07</td>\n",
       "      <td>diarioelheraldo</td>\n",
       "      <td>Diario El Heraldo</td>\n",
       "      <td>Aglomeraciones en la capital de Honduras. Fran...</td>\n",
       "      <td>es</td>\n",
       "      <td>1.0</td>\n",
       "      <td>0.0</td>\n",
       "      <td>3.0</td>\n",
       "      <td>https://twitter.com/diarioelheraldo/status/133...</td>\n",
       "      <td>False</td>\n",
       "    </tr>\n",
       "    <tr>\n",
       "      <th>4</th>\n",
       "      <td>2020-12-07 17:36:21 -05</td>\n",
       "      <td>2020-12-07</td>\n",
       "      <td>17:36:21</td>\n",
       "      <td>-500.0</td>\n",
       "      <td>9.443781e+07</td>\n",
       "      <td>hondudiario</td>\n",
       "      <td>Hondudiario.com</td>\n",
       "      <td>\"FARÁNDULA\": Las integrantes de la familia Kar...</td>\n",
       "      <td>es</td>\n",
       "      <td>0.0</td>\n",
       "      <td>0.0</td>\n",
       "      <td>2.0</td>\n",
       "      <td>https://twitter.com/hondudiario/status/1336077...</td>\n",
       "      <td>False</td>\n",
       "    </tr>\n",
       "  </tbody>\n",
       "</table>\n",
       "</div>"
      ],
      "text/plain": [
       "                created_at        date      time  timezone       user_id  \\\n",
       "0  2020-12-07 18:50:13 -05  2020-12-07  18:50:13    -500.0  1.754808e+07   \n",
       "1  2020-12-07 18:35:02 -05  2020-12-07  18:35:02    -500.0  1.289659e+18   \n",
       "2  2020-12-07 18:27:19 -05  2020-12-07  18:27:19    -500.0  1.754808e+07   \n",
       "3  2020-12-07 18:05:48 -05  2020-12-07  18:05:48    -500.0  1.754808e+07   \n",
       "4  2020-12-07 17:36:21 -05  2020-12-07  17:36:21    -500.0  9.443781e+07   \n",
       "\n",
       "          username               name  \\\n",
       "0  diarioelheraldo  Diario El Heraldo   \n",
       "1       girasol_tv         Girasol TV   \n",
       "2  diarioelheraldo  Diario El Heraldo   \n",
       "3  diarioelheraldo  Diario El Heraldo   \n",
       "4      hondudiario    Hondudiario.com   \n",
       "\n",
       "                                               tweet language  replies_count  \\\n",
       "0  Alejandro Pozuelo firmó nueve goles y aportó 1...       es            0.0   \n",
       "1  #Internacional | Ahora China quiere imponer un...       es            0.0   \n",
       "2  #fotos EL HERALDO dio a conocer este lunes que...       es            1.0   \n",
       "3  Aglomeraciones en la capital de Honduras. Fran...       es            1.0   \n",
       "4  \"FARÁNDULA\": Las integrantes de la familia Kar...       es            0.0   \n",
       "\n",
       "   retweets_count  likes_count  \\\n",
       "0             0.0          0.0   \n",
       "1             0.0          0.0   \n",
       "2             0.0          2.0   \n",
       "3             0.0          3.0   \n",
       "4             0.0          2.0   \n",
       "\n",
       "                                                link retweet  \n",
       "0  https://twitter.com/diarioelheraldo/status/133...   False  \n",
       "1  https://twitter.com/girasol_tv/status/13360918...   False  \n",
       "2  https://twitter.com/diarioelheraldo/status/133...   False  \n",
       "3  https://twitter.com/diarioelheraldo/status/133...   False  \n",
       "4  https://twitter.com/hondudiario/status/1336077...   False  "
      ]
     },
     "execution_count": 37,
     "metadata": {},
     "output_type": "execute_result"
    }
   ],
   "source": [
    "df.head()"
   ]
  },
  {
   "cell_type": "code",
   "execution_count": 56,
   "metadata": {},
   "outputs": [],
   "source": [
    "df.dropna(how='any',axis=0,inplace=True)"
   ]
  },
  {
   "cell_type": "code",
   "execution_count": null,
   "metadata": {},
   "outputs": [],
   "source": []
  },
  {
   "cell_type": "code",
   "execution_count": 57,
   "metadata": {},
   "outputs": [],
   "source": [
    "twets=df['tweet']"
   ]
  },
  {
   "cell_type": "code",
   "execution_count": 58,
   "metadata": {},
   "outputs": [],
   "source": [
    "twets_unique=df['tweet'].unique()"
   ]
  },
  {
   "cell_type": "code",
   "execution_count": 59,
   "metadata": {},
   "outputs": [],
   "source": [
    "tweet_serie=pd.Series(twets_unique)\n"
   ]
  },
  {
   "cell_type": "code",
   "execution_count": 60,
   "metadata": {},
   "outputs": [
    {
     "data": {
      "text/plain": [
       "0      alejandro pozuelo firmó nueve goles y aportó 1...\n",
       "1      #internacional | ahora china quiere imponer un...\n",
       "2      #fotos el heraldo dio a conocer este lunes que...\n",
       "3      aglomeraciones en la capital de honduras. fran...\n",
       "4      \"farándula\": las integrantes de la familia kar...\n",
       "                             ...                        \n",
       "260    los atardeceres en tiempos del coronavirus.  h...\n",
       "261    evita ser contagiado por el coronavirus, lava ...\n",
       "262    por casualidad sabían que este desinfectante c...\n",
       "263    que gran escándalo han hecho con eso del coron...\n",
       "264    en @11_noticias nos solidarizamos con el conti...\n",
       "Length: 265, dtype: object"
      ]
     },
     "execution_count": 60,
     "metadata": {},
     "output_type": "execute_result"
    }
   ],
   "source": [
    "tweet_serie"
   ]
  },
  {
   "cell_type": "code",
   "execution_count": 61,
   "metadata": {},
   "outputs": [],
   "source": [
    "df['tweet']=df['tweet'].apply(lambda x:x.lower())"
   ]
  },
  {
   "cell_type": "code",
   "execution_count": 65,
   "metadata": {},
   "outputs": [],
   "source": [
    "df['tweet']=df['tweet'].apply(lambda x:re.sub('[%s]'% re.escape(string.punctuation),'',x))"
   ]
  },
  {
   "cell_type": "code",
   "execution_count": 66,
   "metadata": {},
   "outputs": [
    {
     "data": {
      "text/plain": [
       "'alejandro pozuelo firmó nueve goles y aportó 10 asistencias en una temporada abreviada por la pandemia del coronavirus  deportes mls pozuelo pandemia coronavirus    httpstcobbaef5vgfe'"
      ]
     },
     "execution_count": 66,
     "metadata": {},
     "output_type": "execute_result"
    }
   ],
   "source": [
    "df['tweet'][0]"
   ]
  },
  {
   "cell_type": "code",
   "execution_count": 68,
   "metadata": {},
   "outputs": [],
   "source": [
    "df['tweet']=df['tweet'].apply(lambda x:re.sub(' +',' ',x))"
   ]
  },
  {
   "cell_type": "code",
   "execution_count": 69,
   "metadata": {},
   "outputs": [
    {
     "data": {
      "text/plain": [
       "'alejandro pozuelo firmó nueve goles y aportó 10 asistencias en una temporada abreviada por la pandemia del coronavirus deportes mls pozuelo pandemia coronavirus httpstcobbaef5vgfe'"
      ]
     },
     "execution_count": 69,
     "metadata": {},
     "output_type": "execute_result"
    }
   ],
   "source": [
    "df['tweet'][0]"
   ]
  },
  {
   "cell_type": "code",
   "execution_count": 73,
   "metadata": {},
   "outputs": [],
   "source": [
    "df['tweet']=df['tweet'].apply(lambda x:re.sub(\n",
    "        r\"([^n\\u0300-\\u036f]|n(?!\\u0303(?![\\u0300-\\u036f])))[\\u0300-\\u036f]+\", r\"\\1\", \n",
    "        normalize( \"NFD\", x)))"
   ]
  },
  {
   "cell_type": "code",
   "execution_count": 74,
   "metadata": {},
   "outputs": [
    {
     "data": {
      "text/plain": [
       "'alejandro pozuelo firmo nueve goles y aporto 10 asistencias en una temporada abreviada por la pandemia del coronavirus deportes mls pozuelo pandemia coronavirus httpstcobbaef5vgfe'"
      ]
     },
     "execution_count": 74,
     "metadata": {},
     "output_type": "execute_result"
    }
   ],
   "source": [
    "df['tweet'][0]"
   ]
  },
  {
   "cell_type": "code",
   "execution_count": 75,
   "metadata": {},
   "outputs": [],
   "source": [
    "from nltk.corpus import stopwords"
   ]
  },
  {
   "cell_type": "code",
   "execution_count": null,
   "metadata": {},
   "outputs": [],
   "source": [
    "df['tweet']=df['tweet'].apply(lambda x:x not in stopwords.words('spanish'), words)"
   ]
  }
 ],
 "metadata": {
  "kernelspec": {
   "display_name": "Python 3.7.6 64-bit",
   "language": "python",
   "name": "python37664bitf2e6c520b28b4a76a0247986ad62c8e3"
  },
  "language_info": {
   "codemirror_mode": {
    "name": "ipython",
    "version": 3
   },
   "file_extension": ".py",
   "mimetype": "text/x-python",
   "name": "python",
   "nbconvert_exporter": "python",
   "pygments_lexer": "ipython3",
   "version": "3.7.6"
  }
 },
 "nbformat": 4,
 "nbformat_minor": 4
}
